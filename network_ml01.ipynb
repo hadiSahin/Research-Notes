{
 "cells": [
  {
   "cell_type": "code",
   "execution_count": 1,
   "metadata": {},
   "outputs": [],
   "source": [
    "import pandas as pd"
   ]
  },
  {
   "cell_type": "code",
   "execution_count": 2,
   "metadata": {},
   "outputs": [],
   "source": [
    "data = pd.read_csv(\"data/merged_data.csv\")"
   ]
  },
  {
   "cell_type": "code",
   "execution_count": 3,
   "metadata": {},
   "outputs": [],
   "source": [
    "data01 = data[~(data['VLAN'].astype(str).str.startswith('5') | (data['VLAN'] == 309) )]\n",
    "data01 = data01[~((data01['year'] == 2024) & (data01['month'] < 9))]"
   ]
  },
  {
   "cell_type": "code",
   "execution_count": 4,
   "metadata": {},
   "outputs": [
    {
     "name": "stdout",
     "output_type": "stream",
     "text": [
      "(187717, 43)\n",
      "(93062, 43)\n"
     ]
    }
   ],
   "source": [
    "data02 = data01[data01['month'].isin([9,10,11])]\n",
    "data03 = data01[~data01['month'].isin([9,10,11])]\n",
    "print(data02.shape)\n",
    "print(data03.shape)"
   ]
  },
  {
   "cell_type": "code",
   "execution_count": 5,
   "metadata": {},
   "outputs": [
    {
     "name": "stderr",
     "output_type": "stream",
     "text": [
      "/var/folders/3n/q9jd5mfn313dc_nw5xr7htk40000gn/T/ipykernel_69063/2964776573.py:1: SettingWithCopyWarning: \n",
      "A value is trying to be set on a copy of a slice from a DataFrame\n",
      "\n",
      "See the caveats in the documentation: https://pandas.pydata.org/pandas-docs/stable/user_guide/indexing.html#returning-a-view-versus-a-copy\n",
      "  data02.drop(columns=['Unnamed: 0', 'VLAN', 'vlans', 'year', 'month'], inplace=True)\n",
      "/var/folders/3n/q9jd5mfn313dc_nw5xr7htk40000gn/T/ipykernel_69063/2964776573.py:2: SettingWithCopyWarning: \n",
      "A value is trying to be set on a copy of a slice from a DataFrame\n",
      "\n",
      "See the caveats in the documentation: https://pandas.pydata.org/pandas-docs/stable/user_guide/indexing.html#returning-a-view-versus-a-copy\n",
      "  data03.drop(columns=['Unnamed: 0', 'VLAN', 'vlans', 'year', 'month'], inplace=True)\n"
     ]
    }
   ],
   "source": [
    "data02.drop(columns=['Unnamed: 0', 'VLAN', 'vlans', 'year', 'month'], inplace=True)\n",
    "data03.drop(columns=['Unnamed: 0', 'VLAN', 'vlans', 'year', 'month'], inplace=True)"
   ]
  },
  {
   "cell_type": "code",
   "execution_count": 6,
   "metadata": {},
   "outputs": [],
   "source": [
    "# Columns to one-hot encode\n",
    "columns_to_encode = ['type', 'max_duration']\n",
    "\n",
    "# One-hot encode the specified columns\n",
    "df1 = pd.get_dummies(data02, columns=columns_to_encode, drop_first=False)\n",
    "df2 = pd.get_dummies(data03, columns=columns_to_encode, drop_first=False)"
   ]
  },
  {
   "cell_type": "code",
   "execution_count": 7,
   "metadata": {},
   "outputs": [
    {
     "data": {
      "text/plain": [
       "Index(['tx_frame', 'jitter', 'latency', 'out_of_sequence', 'frame_loss',\n",
       "       '401_402', '401_424', '402_sw14', '402_428', '402_411', '402_425',\n",
       "       'sw14_430', '428_jax-sw01', 'jax-sw01_415', '411_414', '411_417',\n",
       "       '417_420', '425_427', '424_410', '424_413', '424_429', '424_422',\n",
       "       '410_416', '416_sao-sw04-p3', '416_sao-sw04-p31', 'sao-sw04-p3_405',\n",
       "       'sao-sw04-p31_419', '429_412', '429_sw10', 'sw10_418',\n",
       "       'sw10_pty-sw01-p6', 'pty-sw01-p6_423', '422_sju-sw03',\n",
       "       'sju-sw03_pty-sw01-p1', 'pty-sw01-p1_421', '421_406', 'type_emix',\n",
       "       'type_fx(9000)', 'max_duration_10', 'max_duration_30',\n",
       "       'max_duration_50'],\n",
       "      dtype='object')"
      ]
     },
     "execution_count": 7,
     "metadata": {},
     "output_type": "execute_result"
    }
   ],
   "source": [
    "df1.columns"
   ]
  },
  {
   "cell_type": "code",
   "execution_count": 8,
   "metadata": {},
   "outputs": [],
   "source": [
    "import numpy as np\n",
    "from sklearn.preprocessing import StandardScaler\n",
    "from sklearn.metrics import accuracy_score\n",
    "from tensorflow.keras.models import Sequential\n",
    "from tensorflow.keras.layers import Dense, Input\n",
    "from tensorflow.keras.optimizers import Adam\n",
    "from tensorflow.keras.utils import to_categorical\n",
    "from sklearn.metrics import confusion_matrix, classification_report\n",
    "from tensorflow.keras.layers import Dropout, BatchNormalization\n",
    "from tensorflow.keras.regularizers import l2"
   ]
  },
  {
   "cell_type": "code",
   "execution_count": 16,
   "metadata": {},
   "outputs": [],
   "source": [
    "drop = ['jitter', 'latency', 'out_of_sequence', 'frame_loss']\n",
    "label = 'out_of_sequence'\n",
    "# drop = label"
   ]
  },
  {
   "cell_type": "code",
   "execution_count": 17,
   "metadata": {},
   "outputs": [
    {
     "name": "stdout",
     "output_type": "stream",
     "text": [
      "Epoch 1/50\n",
      "\u001b[1m5867/5867\u001b[0m \u001b[32m━━━━━━━━━━━━━━━━━━━━\u001b[0m\u001b[37m\u001b[0m \u001b[1m6s\u001b[0m 849us/step - accuracy: 0.8701 - loss: 0.4536\n",
      "Epoch 2/50\n",
      "\u001b[1m5867/5867\u001b[0m \u001b[32m━━━━━━━━━━━━━━━━━━━━\u001b[0m\u001b[37m\u001b[0m \u001b[1m5s\u001b[0m 833us/step - accuracy: 0.9963 - loss: 0.0461\n",
      "Epoch 3/50\n",
      "\u001b[1m5867/5867\u001b[0m \u001b[32m━━━━━━━━━━━━━━━━━━━━\u001b[0m\u001b[37m\u001b[0m \u001b[1m5s\u001b[0m 850us/step - accuracy: 0.9976 - loss: 0.0195\n",
      "Epoch 4/50\n",
      "\u001b[1m5867/5867\u001b[0m \u001b[32m━━━━━━━━━━━━━━━━━━━━\u001b[0m\u001b[37m\u001b[0m \u001b[1m5s\u001b[0m 821us/step - accuracy: 0.9979 - loss: 0.0156\n",
      "Epoch 5/50\n",
      "\u001b[1m5867/5867\u001b[0m \u001b[32m━━━━━━━━━━━━━━━━━━━━\u001b[0m\u001b[37m\u001b[0m \u001b[1m5s\u001b[0m 842us/step - accuracy: 0.9980 - loss: 0.0145\n",
      "Epoch 6/50\n",
      "\u001b[1m5867/5867\u001b[0m \u001b[32m━━━━━━━━━━━━━━━━━━━━\u001b[0m\u001b[37m\u001b[0m \u001b[1m5s\u001b[0m 836us/step - accuracy: 0.9980 - loss: 0.0146\n",
      "Epoch 7/50\n",
      "\u001b[1m5867/5867\u001b[0m \u001b[32m━━━━━━━━━━━━━━━━━━━━\u001b[0m\u001b[37m\u001b[0m \u001b[1m5s\u001b[0m 830us/step - accuracy: 0.9981 - loss: 0.0143\n",
      "Epoch 8/50\n",
      "\u001b[1m5867/5867\u001b[0m \u001b[32m━━━━━━━━━━━━━━━━━━━━\u001b[0m\u001b[37m\u001b[0m \u001b[1m5s\u001b[0m 840us/step - accuracy: 0.9980 - loss: 0.0138\n",
      "Epoch 9/50\n",
      "\u001b[1m5867/5867\u001b[0m \u001b[32m━━━━━━━━━━━━━━━━━━━━\u001b[0m\u001b[37m\u001b[0m \u001b[1m5s\u001b[0m 841us/step - accuracy: 0.9981 - loss: 0.0133\n",
      "Epoch 10/50\n",
      "\u001b[1m5867/5867\u001b[0m \u001b[32m━━━━━━━━━━━━━━━━━━━━\u001b[0m\u001b[37m\u001b[0m \u001b[1m5s\u001b[0m 855us/step - accuracy: 0.9980 - loss: 0.0137\n",
      "Epoch 11/50\n",
      "\u001b[1m5867/5867\u001b[0m \u001b[32m━━━━━━━━━━━━━━━━━━━━\u001b[0m\u001b[37m\u001b[0m \u001b[1m5s\u001b[0m 849us/step - accuracy: 0.9984 - loss: 0.0121\n",
      "Epoch 12/50\n",
      "\u001b[1m5867/5867\u001b[0m \u001b[32m━━━━━━━━━━━━━━━━━━━━\u001b[0m\u001b[37m\u001b[0m \u001b[1m5s\u001b[0m 841us/step - accuracy: 0.9980 - loss: 0.0133\n",
      "Epoch 13/50\n",
      "\u001b[1m5867/5867\u001b[0m \u001b[32m━━━━━━━━━━━━━━━━━━━━\u001b[0m\u001b[37m\u001b[0m \u001b[1m5s\u001b[0m 853us/step - accuracy: 0.9981 - loss: 0.0127\n",
      "Epoch 14/50\n",
      "\u001b[1m5867/5867\u001b[0m \u001b[32m━━━━━━━━━━━━━━━━━━━━\u001b[0m\u001b[37m\u001b[0m \u001b[1m5s\u001b[0m 852us/step - accuracy: 0.9981 - loss: 0.0123\n",
      "Epoch 15/50\n",
      "\u001b[1m5867/5867\u001b[0m \u001b[32m━━━━━━━━━━━━━━━━━━━━\u001b[0m\u001b[37m\u001b[0m \u001b[1m5s\u001b[0m 851us/step - accuracy: 0.9980 - loss: 0.0125\n",
      "Epoch 16/50\n",
      "\u001b[1m5867/5867\u001b[0m \u001b[32m━━━━━━━━━━━━━━━━━━━━\u001b[0m\u001b[37m\u001b[0m \u001b[1m5s\u001b[0m 851us/step - accuracy: 0.9983 - loss: 0.0114\n",
      "Epoch 17/50\n",
      "\u001b[1m5867/5867\u001b[0m \u001b[32m━━━━━━━━━━━━━━━━━━━━\u001b[0m\u001b[37m\u001b[0m \u001b[1m5s\u001b[0m 856us/step - accuracy: 0.9983 - loss: 0.0107\n",
      "Epoch 18/50\n",
      "\u001b[1m5867/5867\u001b[0m \u001b[32m━━━━━━━━━━━━━━━━━━━━\u001b[0m\u001b[37m\u001b[0m \u001b[1m5s\u001b[0m 852us/step - accuracy: 0.9986 - loss: 0.0099\n",
      "Epoch 19/50\n",
      "\u001b[1m5867/5867\u001b[0m \u001b[32m━━━━━━━━━━━━━━━━━━━━\u001b[0m\u001b[37m\u001b[0m \u001b[1m5s\u001b[0m 855us/step - accuracy: 0.9983 - loss: 0.0111\n",
      "Epoch 20/50\n",
      "\u001b[1m5867/5867\u001b[0m \u001b[32m━━━━━━━━━━━━━━━━━━━━\u001b[0m\u001b[37m\u001b[0m \u001b[1m5s\u001b[0m 860us/step - accuracy: 0.9983 - loss: 0.0108\n",
      "Epoch 21/50\n",
      "\u001b[1m5867/5867\u001b[0m \u001b[32m━━━━━━━━━━━━━━━━━━━━\u001b[0m\u001b[37m\u001b[0m \u001b[1m5s\u001b[0m 849us/step - accuracy: 0.9984 - loss: 0.0108\n",
      "Epoch 22/50\n",
      "\u001b[1m5867/5867\u001b[0m \u001b[32m━━━━━━━━━━━━━━━━━━━━\u001b[0m\u001b[37m\u001b[0m \u001b[1m5s\u001b[0m 854us/step - accuracy: 0.9985 - loss: 0.0094\n",
      "Epoch 23/50\n",
      "\u001b[1m5867/5867\u001b[0m \u001b[32m━━━━━━━━━━━━━━━━━━━━\u001b[0m\u001b[37m\u001b[0m \u001b[1m5s\u001b[0m 866us/step - accuracy: 0.9984 - loss: 0.0105\n",
      "Epoch 24/50\n",
      "\u001b[1m5867/5867\u001b[0m \u001b[32m━━━━━━━━━━━━━━━━━━━━\u001b[0m\u001b[37m\u001b[0m \u001b[1m5s\u001b[0m 909us/step - accuracy: 0.9982 - loss: 0.0109\n",
      "Epoch 25/50\n",
      "\u001b[1m5867/5867\u001b[0m \u001b[32m━━━━━━━━━━━━━━━━━━━━\u001b[0m\u001b[37m\u001b[0m \u001b[1m5s\u001b[0m 887us/step - accuracy: 0.9981 - loss: 0.0111\n",
      "Epoch 26/50\n",
      "\u001b[1m5867/5867\u001b[0m \u001b[32m━━━━━━━━━━━━━━━━━━━━\u001b[0m\u001b[37m\u001b[0m \u001b[1m5s\u001b[0m 859us/step - accuracy: 0.9983 - loss: 0.0106\n",
      "Epoch 27/50\n",
      "\u001b[1m5867/5867\u001b[0m \u001b[32m━━━━━━━━━━━━━━━━━━━━\u001b[0m\u001b[37m\u001b[0m \u001b[1m5s\u001b[0m 861us/step - accuracy: 0.9980 - loss: 0.0113\n",
      "Epoch 28/50\n",
      "\u001b[1m5867/5867\u001b[0m \u001b[32m━━━━━━━━━━━━━━━━━━━━\u001b[0m\u001b[37m\u001b[0m \u001b[1m5s\u001b[0m 855us/step - accuracy: 0.9984 - loss: 0.0099\n",
      "Epoch 29/50\n",
      "\u001b[1m5867/5867\u001b[0m \u001b[32m━━━━━━━━━━━━━━━━━━━━\u001b[0m\u001b[37m\u001b[0m \u001b[1m5s\u001b[0m 853us/step - accuracy: 0.9983 - loss: 0.0112\n",
      "Epoch 30/50\n",
      "\u001b[1m5867/5867\u001b[0m \u001b[32m━━━━━━━━━━━━━━━━━━━━\u001b[0m\u001b[37m\u001b[0m \u001b[1m5s\u001b[0m 865us/step - accuracy: 0.9981 - loss: 0.0107\n",
      "Epoch 31/50\n",
      "\u001b[1m5867/5867\u001b[0m \u001b[32m━━━━━━━━━━━━━━━━━━━━\u001b[0m\u001b[37m\u001b[0m \u001b[1m5s\u001b[0m 853us/step - accuracy: 0.9983 - loss: 0.0098\n",
      "Epoch 32/50\n",
      "\u001b[1m5867/5867\u001b[0m \u001b[32m━━━━━━━━━━━━━━━━━━━━\u001b[0m\u001b[37m\u001b[0m \u001b[1m5s\u001b[0m 865us/step - accuracy: 0.9986 - loss: 0.0093\n",
      "Epoch 33/50\n",
      "\u001b[1m5867/5867\u001b[0m \u001b[32m━━━━━━━━━━━━━━━━━━━━\u001b[0m\u001b[37m\u001b[0m \u001b[1m5s\u001b[0m 873us/step - accuracy: 0.9984 - loss: 0.0104\n",
      "Epoch 34/50\n",
      "\u001b[1m5867/5867\u001b[0m \u001b[32m━━━━━━━━━━━━━━━━━━━━\u001b[0m\u001b[37m\u001b[0m \u001b[1m5s\u001b[0m 868us/step - accuracy: 0.9982 - loss: 0.0108\n",
      "Epoch 35/50\n",
      "\u001b[1m5867/5867\u001b[0m \u001b[32m━━━━━━━━━━━━━━━━━━━━\u001b[0m\u001b[37m\u001b[0m \u001b[1m5s\u001b[0m 868us/step - accuracy: 0.9985 - loss: 0.0099\n",
      "Epoch 36/50\n",
      "\u001b[1m5867/5867\u001b[0m \u001b[32m━━━━━━━━━━━━━━━━━━━━\u001b[0m\u001b[37m\u001b[0m \u001b[1m5s\u001b[0m 880us/step - accuracy: 0.9984 - loss: 0.0097\n",
      "Epoch 37/50\n",
      "\u001b[1m5867/5867\u001b[0m \u001b[32m━━━━━━━━━━━━━━━━━━━━\u001b[0m\u001b[37m\u001b[0m \u001b[1m5s\u001b[0m 870us/step - accuracy: 0.9985 - loss: 0.0094\n",
      "Epoch 38/50\n",
      "\u001b[1m5867/5867\u001b[0m \u001b[32m━━━━━━━━━━━━━━━━━━━━\u001b[0m\u001b[37m\u001b[0m \u001b[1m5s\u001b[0m 878us/step - accuracy: 0.9983 - loss: 0.0102\n",
      "Epoch 39/50\n",
      "\u001b[1m5867/5867\u001b[0m \u001b[32m━━━━━━━━━━━━━━━━━━━━\u001b[0m\u001b[37m\u001b[0m \u001b[1m5s\u001b[0m 871us/step - accuracy: 0.9983 - loss: 0.0103\n",
      "Epoch 40/50\n",
      "\u001b[1m5867/5867\u001b[0m \u001b[32m━━━━━━━━━━━━━━━━━━━━\u001b[0m\u001b[37m\u001b[0m \u001b[1m5s\u001b[0m 886us/step - accuracy: 0.9984 - loss: 0.0097\n",
      "Epoch 41/50\n",
      "\u001b[1m5867/5867\u001b[0m \u001b[32m━━━━━━━━━━━━━━━━━━━━\u001b[0m\u001b[37m\u001b[0m \u001b[1m5s\u001b[0m 877us/step - accuracy: 0.9982 - loss: 0.0106\n",
      "Epoch 42/50\n",
      "\u001b[1m5867/5867\u001b[0m \u001b[32m━━━━━━━━━━━━━━━━━━━━\u001b[0m\u001b[37m\u001b[0m \u001b[1m5s\u001b[0m 894us/step - accuracy: 0.9984 - loss: 0.0096\n",
      "Epoch 43/50\n",
      "\u001b[1m5867/5867\u001b[0m \u001b[32m━━━━━━━━━━━━━━━━━━━━\u001b[0m\u001b[37m\u001b[0m \u001b[1m5s\u001b[0m 886us/step - accuracy: 0.9984 - loss: 0.0098\n",
      "Epoch 44/50\n",
      "\u001b[1m5867/5867\u001b[0m \u001b[32m━━━━━━━━━━━━━━━━━━━━\u001b[0m\u001b[37m\u001b[0m \u001b[1m5s\u001b[0m 893us/step - accuracy: 0.9983 - loss: 0.0105\n",
      "Epoch 45/50\n",
      "\u001b[1m5867/5867\u001b[0m \u001b[32m━━━━━━━━━━━━━━━━━━━━\u001b[0m\u001b[37m\u001b[0m \u001b[1m5s\u001b[0m 886us/step - accuracy: 0.9983 - loss: 0.0101\n",
      "Epoch 46/50\n",
      "\u001b[1m5867/5867\u001b[0m \u001b[32m━━━━━━━━━━━━━━━━━━━━\u001b[0m\u001b[37m\u001b[0m \u001b[1m5s\u001b[0m 897us/step - accuracy: 0.9987 - loss: 0.0083\n",
      "Epoch 47/50\n",
      "\u001b[1m5867/5867\u001b[0m \u001b[32m━━━━━━━━━━━━━━━━━━━━\u001b[0m\u001b[37m\u001b[0m \u001b[1m5s\u001b[0m 891us/step - accuracy: 0.9983 - loss: 0.0092\n",
      "Epoch 48/50\n",
      "\u001b[1m5867/5867\u001b[0m \u001b[32m━━━━━━━━━━━━━━━━━━━━\u001b[0m\u001b[37m\u001b[0m \u001b[1m6s\u001b[0m 948us/step - accuracy: 0.9985 - loss: 0.0091\n",
      "Epoch 49/50\n",
      "\u001b[1m5867/5867\u001b[0m \u001b[32m━━━━━━━━━━━━━━━━━━━━\u001b[0m\u001b[37m\u001b[0m \u001b[1m5s\u001b[0m 934us/step - accuracy: 0.9983 - loss: 0.0088\n",
      "Epoch 50/50\n",
      "\u001b[1m5867/5867\u001b[0m \u001b[32m━━━━━━━━━━━━━━━━━━━━\u001b[0m\u001b[37m\u001b[0m \u001b[1m5s\u001b[0m 912us/step - accuracy: 0.9986 - loss: 0.0091\n",
      "Test Accuracy: 0.9777\n",
      "\u001b[1m2909/2909\u001b[0m \u001b[32m━━━━━━━━━━━━━━━━━━━━\u001b[0m\u001b[37m\u001b[0m \u001b[1m1s\u001b[0m 294us/step\n",
      "Predictions: [0 0 0 ... 0 0 0]\n",
      "True Labels: [0 0 0 ... 0 0 0]\n",
      "Accuracy Score: 0.9777\n"
     ]
    }
   ],
   "source": [
    "# Separate features and labels\n",
    "X_train = df1.drop(columns=drop).values\n",
    "y_train = df1[label].values\n",
    "\n",
    "X_test = df2.drop(columns=drop).values\n",
    "y_test = df2[label].values\n",
    "\n",
    "# Scale the features\n",
    "scaler = StandardScaler()\n",
    "\n",
    "# Fit the scaler on training data and transform both training and test data\n",
    "X_train_scaled = scaler.fit_transform(X_train)\n",
    "X_test_scaled = scaler.transform(X_test)\n",
    "\n",
    "# Convert labels to categorical (one-hot encoding)\n",
    "y_train_categorical = to_categorical(y_train)\n",
    "y_test_categorical = to_categorical(y_test)\n",
    "\n",
    "model = Sequential([\n",
    "    Input(shape=(X_train_scaled.shape[1],)),  # Input layer\n",
    "    \n",
    "    # First hidden layer with L2 regularization, Batch Normalization, and Dropout\n",
    "    Dense(128, activation='relu', kernel_regularizer=l2(0.001)),\n",
    "    BatchNormalization(),\n",
    "    Dropout(0.3),\n",
    "\n",
    "    Dense(64, activation='relu', kernel_regularizer=l2(0.001)),\n",
    "    BatchNormalization(),\n",
    "    Dropout(0.3),\n",
    "\n",
    "    Dense(32, activation='relu', kernel_regularizer=l2(0.001)),\n",
    "    BatchNormalization(),\n",
    "    Dropout(0.3),\n",
    "\n",
    "    Dense(16, activation='relu', kernel_regularizer=l2(0.001)),\n",
    "    BatchNormalization(),\n",
    "    Dropout(0.3),\n",
    "    \n",
    "    Dense(8, activation='relu', kernel_regularizer=l2(0.001)),\n",
    "    BatchNormalization(),\n",
    "    Dropout(0.3),\n",
    "    \n",
    "    Dense(y_train_categorical.shape[1], activation='softmax')\n",
    "])\n",
    "# Compile the model\n",
    "model.compile(optimizer=Adam(learning_rate=0.0005),  # Reduced learning rate for stability\n",
    "              loss='categorical_crossentropy',\n",
    "              metrics=['accuracy'])\n",
    "\n",
    "# Train the model\n",
    "model.fit(X_train_scaled, y_train_categorical, epochs=50, batch_size=32, verbose=1)\n",
    "\n",
    "# Evaluate the model on the test set\n",
    "loss, accuracy = model.evaluate(X_test_scaled, y_test_categorical, verbose=0)\n",
    "print(f\"Test Accuracy: {accuracy:.4f}\")\n",
    "\n",
    "# Make predictions\n",
    "y_pred = np.argmax(model.predict(X_test_scaled), axis=1)\n",
    "print(f\"Predictions: {y_pred}\")\n",
    "print(f\"True Labels: {y_test}\")\n",
    "print(f\"Accuracy Score: {accuracy_score(y_test, y_pred):.4f}\")\n"
   ]
  },
  {
   "cell_type": "code",
   "execution_count": 18,
   "metadata": {},
   "outputs": [
    {
     "data": {
      "image/png": "[encoded data removed]",
      "text/plain": [
       "<Figure size 800x600 with 2 Axes>"
      ]
     },
     "metadata": {},
     "output_type": "display_data"
    }
   ],
   "source": [
    "conf_matrix = confusion_matrix(y_test, y_pred)\n",
    "\n",
    "import seaborn as sns\n",
    "import matplotlib.pyplot as plt\n",
    "\n",
    "# Plot the confusion matrix\n",
    "plt.figure(figsize=(8, 6))\n",
    "sns.heatmap(conf_matrix, annot=True, fmt=\"d\", cmap=\"Blues\", xticklabels=np.unique(y_test), yticklabels=np.unique(y_test))\n",
    "plt.xlabel(\"Predicted Labels\")\n",
    "plt.ylabel(\"True Labels\")\n",
    "plt.title(\"Confusion Matrix\")\n",
    "plt.show()\n",
    "\n"
   ]
  }
 ],
 "metadata": {
  "kernelspec": {
   "display_name": "env",
   "language": "python",
   "name": "python3"
  },
  "language_info": {
   "codemirror_mode": {
    "name": "ipython",
    "version": 3
   },
   "file_extension": ".py",
   "mimetype": "text/x-python",
   "name": "python",
   "nbconvert_exporter": "python",
   "pygments_lexer": "ipython3",
   "version": "3.12.2"
  }
 },
 "nbformat": 4,
 "nbformat_minor": 2
}
